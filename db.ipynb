{
 "cells": [
  {
   "cell_type": "code",
   "execution_count": 6,
   "metadata": {},
   "outputs": [
    {
     "ename": "OperationalError",
     "evalue": "table users already exists",
     "output_type": "error",
     "traceback": [
      "\u001b[1;31m---------------------------------------------------------------------------\u001b[0m",
      "\u001b[1;31mOperationalError\u001b[0m                          Traceback (most recent call last)",
      "Cell \u001b[1;32mIn[6], line 20\u001b[0m\n\u001b[0;32m     11\u001b[0m create_table_query \u001b[39m=\u001b[39m \u001b[39m'''\u001b[39m\n\u001b[0;32m     12\u001b[0m \u001b[39mCREATE TABLE users (\u001b[39m\n\u001b[0;32m     13\u001b[0m \u001b[39m    id INTEGER PRIMARY KEY,\u001b[39m\n\u001b[1;32m   (...)\u001b[0m\n\u001b[0;32m     16\u001b[0m \u001b[39m)\u001b[39m\n\u001b[0;32m     17\u001b[0m \u001b[39m'''\u001b[39m\n\u001b[0;32m     19\u001b[0m \u001b[39m# Execute the SQL statement to create the users table\u001b[39;00m\n\u001b[1;32m---> 20\u001b[0m c\u001b[39m.\u001b[39;49mexecute(create_table_query)\n\u001b[0;32m     22\u001b[0m \u001b[39m# Commit the changes to the database and close the connection\u001b[39;00m\n\u001b[0;32m     23\u001b[0m conn\u001b[39m.\u001b[39mcommit()\n",
      "\u001b[1;31mOperationalError\u001b[0m: table users already exists"
     ]
    }
   ],
   "source": [
    "#Create db\n",
    "import sqlite3\n",
    "\n",
    "# Create a connection to the database (or create the database if it doesn't exist)\n",
    "conn = sqlite3.connect('database.db')\n",
    "\n",
    "# Create a cursor object to interact with the database\n",
    "c = conn.cursor()\n",
    "\n",
    "# Define the SQL statement to create the users table\n",
    "create_table_query = '''\n",
    "CREATE TABLE users (\n",
    "    id INTEGER PRIMARY KEY,\n",
    "    username TEXT NOT NULL,\n",
    "    password TEXT NOT NULL\n",
    ")\n",
    "'''\n",
    "\n",
    "# Execute the SQL statement to create the users table\n",
    "c.execute(create_table_query)\n",
    "\n",
    "# Commit the changes to the database and close the connection\n",
    "conn.commit()\n",
    "conn.close()"
   ]
  },
  {
   "cell_type": "code",
   "execution_count": null,
   "metadata": {},
   "outputs": [],
   "source": [
    "#Add account\n",
    "import sqlite3\n",
    "\n",
    "# Connect to the database\n",
    "conn = sqlite3.connect('database.db')\n",
    "c = conn.cursor()\n",
    "\n",
    "# Insert a new user with an inputted username and password\n",
    "username = input('username')\n",
    "password = input('password')\n",
    "c.execute(\"INSERT INTO users (username, password) VALUES (?, ?)\", (username, password))\n",
    "\n",
    "# Commit the changes and close the connection\n",
    "conn.commit()\n",
    "conn.close()\n"
   ]
  },
  {
   "cell_type": "code",
   "execution_count": null,
   "metadata": {},
   "outputs": [],
   "source": [
    "#Add keyword and description to db\n",
    "import sqlite3\n",
    "\n",
    "conn = sqlite3.connect('archive.db')\n",
    "c = conn.cursor()\n",
    "\n",
    "# Add a new keyword and its description to the database\n",
    "keyword = input('Type keyword')\n",
    "description = input('Type description')\n",
    "c.execute(\"INSERT INTO keyword (keyword, description) VALUES (?, ?)\", (keyword, description))\n",
    "\n",
    "conn.commit()\n",
    "conn.close()\n"
   ]
  },
  {
   "cell_type": "code",
   "execution_count": 4,
   "metadata": {},
   "outputs": [],
   "source": [
    "#Create archive of keywords and descriptions\n",
    "import sqlite3\n",
    "\n",
    "conn = sqlite3.connect('archive.db')\n",
    "c = conn.cursor()\n",
    "\n",
    "c.execute('''CREATE TABLE keyword\n",
    "             (id INTEGER PRIMARY KEY,\n",
    "              keyword TEXT UNIQUE,\n",
    "              description TEXT)''')\n",
    "\n",
    "conn.commit()\n",
    "conn.close()\n"
   ]
  }
 ],
 "metadata": {
  "kernelspec": {
   "display_name": "base",
   "language": "python",
   "name": "python3"
  },
  "language_info": {
   "codemirror_mode": {
    "name": "ipython",
    "version": 3
   },
   "file_extension": ".py",
   "mimetype": "text/x-python",
   "name": "python",
   "nbconvert_exporter": "python",
   "pygments_lexer": "ipython3",
   "version": "3.10.9"
  },
  "orig_nbformat": 4
 },
 "nbformat": 4,
 "nbformat_minor": 2
}

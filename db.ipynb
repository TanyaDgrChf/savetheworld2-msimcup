{
 "cells": [
  {
   "cell_type": "code",
   "execution_count": null,
   "metadata": {},
   "outputs": [],
   "source": [
    "#Create db\n",
    "import sqlite3\n",
    "\n",
    "# Create a connection to the database (or create the database if it doesn't exist)\n",
    "conn = sqlite3.connect('database.db')\n",
    "\n",
    "# Create a cursor object to interact with the database\n",
    "c = conn.cursor()\n",
    "\n",
    "# Define the SQL statement to create the users table\n",
    "create_table_query = '''\n",
    "CREATE TABLE users (\n",
    "    id INTEGER PRIMARY KEY,\n",
    "    username TEXT NOT NULL,\n",
    "    password TEXT NOT NULL\n",
    ")\n",
    "'''\n",
    "\n",
    "# Execute the SQL statement to create the users table\n",
    "c.execute(create_table_query)\n",
    "\n",
    "# Commit the changes to the database and close the connection\n",
    "conn.commit()\n",
    "conn.close()"
   ]
  },
  {
   "cell_type": "code",
   "execution_count": null,
   "metadata": {},
   "outputs": [],
   "source": [
    "#Add account\n",
    "import sqlite3\n",
    "\n",
    "# Connect to the database\n",
    "conn = sqlite3.connect('database.db')\n",
    "c = conn.cursor()\n",
    "\n",
    "# Insert a new user with an inputted username and password\n",
    "username = input('username')\n",
    "password = input('password')\n",
    "c.execute(\"INSERT INTO users (username, password) VALUES (?, ?)\", (username, password))\n",
    "\n",
    "# Commit the changes and close the connection\n",
    "conn.commit()\n",
    "conn.close()\n"
   ]
  },
  {
   "cell_type": "code",
   "execution_count": null,
   "metadata": {},
   "outputs": [],
   "source": [
    "#Add keyword and description to db\n",
    "import sqlite3\n",
    "\n",
    "conn = sqlite3.connect('archive.db')\n",
    "c = conn.cursor()\n",
    "\n",
    "# Add a new keyword and its description to the database\n",
    "keyword = input('Type keyword')\n",
    "description = input('Type description')\n",
    "c.execute(\"INSERT INTO keyword (keyword, description) VALUES (?, ?)\", (keyword, description))\n",
    "\n",
    "conn.commit()\n",
    "conn.close()\n"
   ]
  },
  {
   "cell_type": "code",
   "execution_count": null,
   "metadata": {},
   "outputs": [],
   "source": [
    "#Create archive of keywords and descriptions\n",
    "import sqlite3\n",
    "\n",
    "conn = sqlite3.connect('archive.db')\n",
    "c = conn.cursor()\n",
    "\n",
    "c.execute('''CREATE TABLE keyword\n",
    "             (id INTEGER PRIMARY KEY,\n",
    "              keyword TEXT UNIQUE,\n",
    "              description TEXT)''')\n",
    "\n",
    "conn.commit()\n",
    "conn.close()\n"
   ]
  }
 ],
 "metadata": {
  "kernelspec": {
   "display_name": "base",
   "language": "python",
   "name": "python3"
  },
  "language_info": {
   "codemirror_mode": {
    "name": "ipython",
    "version": 3
   },
   "file_extension": ".py",
   "mimetype": "text/x-python",
   "name": "python",
   "nbconvert_exporter": "python",
   "pygments_lexer": "ipython3",
   "version": "3.10.9"
  },
  "orig_nbformat": 4
 },
 "nbformat": 4,
 "nbformat_minor": 2
}

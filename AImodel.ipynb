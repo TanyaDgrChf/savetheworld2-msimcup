{
  "cells": [
    {
      "attachments": {},
      "cell_type": "markdown",
      "metadata": {
        "colab_type": "text",
        "id": "view-in-github"
      },
      "source": [
        "<a href=\"https://colab.research.google.com/github/TanyaDgrChf/savetheworld2-msimcup/blob/main/AImodel.ipynb\" target=\"_parent\"><img src=\"https://colab.research.google.com/assets/colab-badge.svg\" alt=\"Open In Colab\"/></a>"
      ]
    },
    {
      "cell_type": "code",
      "execution_count": null,
      "metadata": {
        "id": "cmLpBalpypW4"
      },
      "outputs": [],
      "source": [
        "# Unzips dataset into TrashNet\n",
        "# dataset from https://github.com/garythung/trashnet\n",
        "!unzip /content/dataset-resized.zip -d /content/TrashNet"
      ]
    },
    {
      "cell_type": "code",
      "execution_count": null,
      "metadata": {
        "id": "-VF5eEF83QsY"
      },
      "outputs": [],
      "source": [
        "# Splits images into test, train and validation\n",
        "import os\n",
        "import shutil\n",
        "from sklearn.model_selection import train_test_split\n",
        "\n",
        "# Specify the path to the extracted dataset\n",
        "dataset_dir = '/content/TrashNet/dataset-resized'\n",
        "\n",
        "# Specify the target directories for train, validation, and test splits\n",
        "train_dir = '/content/train'\n",
        "valid_dir = '/content/validation'\n",
        "test_dir = '/content/test'\n",
        "\n",
        "# Create the target directories if they don't exist\n",
        "os.makedirs(train_dir, exist_ok=True)\n",
        "os.makedirs(valid_dir, exist_ok=True)\n",
        "os.makedirs(test_dir, exist_ok=True)\n",
        "\n",
        "# Get the list of class directories in the dataset\n",
        "class_dirs = [d for d in os.listdir(dataset_dir) if os.path.isdir(os.path.join(dataset_dir, d))]\n",
        "\n",
        "# Iterate through each class directory and split the images\n",
        "for class_dir in class_dirs:\n",
        "    class_path = os.path.join(dataset_dir, class_dir)\n",
        "    images = [f for f in os.listdir(class_path) if os.path.isfile(os.path.join(class_path, f))]\n",
        "\n",
        "    # Split the images into train, validation, and test sets\n",
        "    train_images, test_images = train_test_split(images, test_size=0.2, random_state=42)\n",
        "    train_images, valid_images = train_test_split(train_images, test_size=0.2, random_state=42)\n",
        "\n",
        "    # Create the target directories for each class in the train, validation, and test sets\n",
        "    train_class_dir = os.path.join(train_dir, class_dir)\n",
        "    valid_class_dir = os.path.join(valid_dir, class_dir)\n",
        "    test_class_dir = os.path.join(test_dir, class_dir)\n",
        "    os.makedirs(train_class_dir, exist_ok=True)\n",
        "    os.makedirs(valid_class_dir, exist_ok=True)\n",
        "    os.makedirs(test_class_dir, exist_ok=True)\n",
        "\n",
        "    # Move the images to the corresponding class directories\n",
        "    for image in train_images:\n",
        "        src_path = os.path.join(class_path, image)\n",
        "        dst_path = os.path.join(train_class_dir, image)\n",
        "        shutil.copy(src_path, dst_path)\n",
        "\n",
        "    for image in valid_images:\n",
        "        src_path = os.path.join(class_path, image)\n",
        "        dst_path = os.path.join(valid_class_dir, image)\n",
        "        shutil.copy(src_path, dst_path)\n",
        "\n",
        "    for image in test_images:\n",
        "        src_path = os.path.join(class_path, image)\n",
        "        dst_path = os.path.join(test_class_dir, image)\n",
        "        shutil.copy(src_path, dst_path)"
      ]
    },
    {
      "cell_type": "code",
      "execution_count": null,
      "metadata": {
        "colab": {
          "base_uri": "https://localhost:8080/"
        },
        "id": "DIS0Rtb40RtC",
        "outputId": "b9e4326c-dcbf-4e87-f33a-32521f077650"
      },
      "outputs": [],
      "source": [
        "# AI model itself\n",
        "import tensorflow as tf\n",
        "from tensorflow.keras.preprocessing.image import ImageDataGenerator\n",
        "from tensorflow.keras.applications import MobileNetV2\n",
        "from tensorflow.keras.layers import Dense, GlobalAveragePooling2D\n",
        "from tensorflow.keras.models import Model\n",
        "\n",
        "# Set the paths to the TrashNet dataset\n",
        "train_data_dir = '/content/train'\n",
        "valid_data_dir = '/content/validation'\n",
        "test_data_dir = '/content/test'\n",
        "\n",
        "# Set the image dimensions and batch size\n",
        "img_width, img_height = 224, 224\n",
        "batch_size = 32\n",
        "\n",
        "# Data augmentation and preprocessing\n",
        "train_datagen = ImageDataGenerator(\n",
        "    rescale=1. / 255,\n",
        "    shear_range=0.2,\n",
        "    zoom_range=0.2,\n",
        "    horizontal_flip=True\n",
        ")\n",
        "\n",
        "valid_datagen = ImageDataGenerator(rescale=1. / 255)\n",
        "\n",
        "train_generator = train_datagen.flow_from_directory(\n",
        "    train_data_dir,\n",
        "    target_size=(img_width, img_height),\n",
        "    batch_size=batch_size,\n",
        "    class_mode='categorical'\n",
        ")\n",
        "\n",
        "valid_generator = valid_datagen.flow_from_directory(\n",
        "    valid_data_dir,\n",
        "    target_size=(img_width, img_height),\n",
        "    batch_size=batch_size,\n",
        "    class_mode='categorical'\n",
        ")\n",
        "\n",
        "# Load the pre-trained MobileNetV2 model without the top classification layer\n",
        "base_model = MobileNetV2(\n",
        "    include_top=False,\n",
        "    weights='imagenet',\n",
        "    input_shape=(img_width, img_height, 3)\n",
        ")\n",
        "\n",
        "# Add custom classification layers on top of the base model\n",
        "x = base_model.output\n",
        "x = GlobalAveragePooling2D()(x)\n",
        "x = Dense(128, activation='relu')(x)\n",
        "predictions = Dense(train_generator.num_classes, activation='softmax')(x)\n",
        "\n",
        "# Create the final model\n",
        "model = Model(inputs=base_model.input, outputs=predictions)\n",
        "\n",
        "# Freeze the base model layers\n",
        "for layer in base_model.layers:\n",
        "    layer.trainable = False\n",
        "\n",
        "# Compile the model\n",
        "model.compile(optimizer='adam', loss='categorical_crossentropy', metrics=['accuracy'])\n",
        "\n",
        "# Train the model\n",
        "model.fit(\n",
        "    train_generator,\n",
        "    steps_per_epoch=train_generator.samples // batch_size,\n",
        "    epochs=10,\n",
        "    validation_data=valid_generator,\n",
        "    validation_steps=valid_generator.samples // batch_size\n",
        ")\n",
        "\n",
        "# Save the trained model\n",
        "model.save('trashnet_model.h5')"
      ]
    },
    {
      "cell_type": "code",
      "execution_count": null,
      "metadata": {
        "id": "dd6-Rd3QdaGt"
      },
      "outputs": [],
      "source": [
        "import tensorflow as tf\n",
        "from tensorflow.keras.models import load_model\n",
        "\n",
        "# Load the trained model\n",
        "model = load_model('/content/trashnet_model.h5')"
      ]
    },
    {
      "cell_type": "code",
      "execution_count": null,
      "metadata": {
        "colab": {
          "base_uri": "https://localhost:8080/"
        },
        "id": "n_MmS-nofxmf",
        "outputId": "bd907b23-b234-46c3-d40d-8e9c7f0bb6d9"
      },
      "outputs": [],
      "source": [
        "# Determine which class is which object\n",
        "import numpy as np\n",
        "from PIL import Image\n",
        "\n",
        "class_labels = ['Cardboard', 'Glass', 'Metal', 'Paper', 'Plastic', 'Trash']\n",
        "\n",
        "# Load and preprocess the image\n",
        "image = Image.open('/content/plastic-bag-9659043.jpg')\n",
        "image = image.resize((224, 224))  # Resize the image to match the input size of the model\n",
        "image_array = np.array(image) / 255.0  # Normalize the pixel values\n",
        "\n",
        "# Expand dimensions to match the input shape of the model\n",
        "input_image = np.expand_dims(image_array, axis=0)\n",
        "\n",
        "# Make predictions\n",
        "predictions = model.predict(input_image)\n",
        "\n",
        "# Get the predicted class index\n",
        "predicted_class_index = np.argmax(predictions[0])\n",
        "\n",
        "# Map the predicted class index to the corresponding label\n",
        "predicted_class = class_labels[predicted_class_index]\n",
        "\n",
        "print(\"Predicted class:\", predicted_class)"
      ]
    }
  ],
  "metadata": {
    "colab": {
      "include_colab_link": true,
      "provenance": []
    },
    "kernelspec": {
      "display_name": "Python 3",
      "name": "python3"
    },
    "language_info": {
      "name": "python"
    }
  },
  "nbformat": 4,
  "nbformat_minor": 0
}
